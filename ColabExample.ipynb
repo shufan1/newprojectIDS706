{
  "nbformat": 4,
  "nbformat_minor": 0,
  "metadata": {
    "colab": {
      "name": "ColabExample.ipynb",
      "provenance": [],
      "authorship_tag": "ABX9TyODQeOnScElPlBUPTWCRSgK",
      "include_colab_link": true
    },
    "kernelspec": {
      "name": "python3",
      "display_name": "Python 3"
    },
    "language_info": {
      "name": "python"
    }
  },
  "cells": [
    {
      "cell_type": "markdown",
      "metadata": {
        "id": "view-in-github",
        "colab_type": "text"
      },
      "source": [
        "<a href=\"https://colab.research.google.com/github/shufan1/newprojectIDS706/blob/main/ColabExample.ipynb\" target=\"_parent\"><img src=\"https://colab.research.google.com/assets/colab-badge.svg\" alt=\"Open In Colab\"/></a>"
      ]
    },
    {
      "cell_type": "code",
      "metadata": {
        "id": "wJbOt1tYFiNE"
      },
      "source": [
        "#@title This is a colab example\n",
        "\n",
        "def hell2():\n",
        "  return x*y"
      ],
      "execution_count": null,
      "outputs": []
    }
  ]
}